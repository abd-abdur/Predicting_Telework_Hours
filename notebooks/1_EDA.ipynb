{
 "cells": [
  {
   "cell_type": "code",
   "execution_count": 14,
   "metadata": {},
   "outputs": [
    {
     "name": "stdout",
     "output_type": "stream",
     "text": [
      "Current Working Directory: /Users/abdurrahman/Documents/Data Bootcamp/Finals/Predicting_Telework_Hours\n",
      "Base Path: data/cleaned\n",
      "Contents of Base Path: ['table_5_refined.csv', 'table_3_refined.csv', 'table_6_refined.csv', 'table_1_refined.csv', 'table_8_refined.csv', 'table_4_refined.csv', 'table_7_refined.csv', 'table_2_refined.csv']\n",
      "Loaded: table_1_refined.csv\n",
      "Loaded: table_2_refined.csv\n",
      "Loaded: table_3_refined.csv\n",
      "Loaded: table_4_refined.csv\n",
      "Loaded: table_5_refined.csv\n",
      "Loaded: table_6_refined.csv\n",
      "Loaded: table_7_refined.csv\n",
      "Loaded: table_8_refined.csv\n",
      "Tables Loaded: ['table_1_refined', 'table_2_refined', 'table_3_refined', 'table_4_refined', 'table_5_refined', 'table_6_refined', 'table_7_refined', 'table_8_refined']\n"
     ]
    }
   ],
   "source": [
    "import os\n",
    "import pandas as pd\n",
    "\n",
    "# Set working directory to the project root\n",
    "project_root = os.path.abspath(\"..\")\n",
    "os.chdir(project_root)\n",
    "print(\"Current Working Directory:\", os.getcwd())\n",
    "\n",
    "# Path to the cleaned data\n",
    "base_path = os.path.join(\"data\", \"cleaned\")\n",
    "print(\"Base Path:\", base_path)\n",
    "\n",
    "# Verify base path\n",
    "if not os.path.exists(base_path):\n",
    "    raise FileNotFoundError(f\"Base path does not exist: {base_path}\")\n",
    "print(\"Contents of Base Path:\", os.listdir(base_path))\n",
    "\n",
    "# Function to load CSV files\n",
    "def load_csv_tables(base_path, file_names):\n",
    "    tables = {}\n",
    "    for file_name in file_names:\n",
    "        file_path = os.path.join(base_path, file_name)\n",
    "        if os.path.exists(file_path):\n",
    "            table_name = os.path.splitext(file_name)[0]\n",
    "            tables[table_name] = pd.read_csv(file_path)\n",
    "            print(f\"Loaded: {file_name}\")\n",
    "        else:\n",
    "            print(f\"File not found: {file_path}\")\n",
    "    return tables\n",
    "\n",
    "# File names\n",
    "file_names = [\n",
    "    'table_1_refined.csv',\n",
    "    'table_2_refined.csv',\n",
    "    'table_3_refined.csv',\n",
    "    'table_4_refined.csv',\n",
    "    'table_5_refined.csv',\n",
    "    'table_6_refined.csv',\n",
    "    'table_7_refined.csv',\n",
    "    'table_8_refined.csv'\n",
    "]\n",
    "\n",
    "# Load tables\n",
    "tables = load_csv_tables(base_path, file_names)\n",
    "\n",
    "# Verify loaded tables\n",
    "if not tables:\n",
    "    print(\"WARNING: No tables were loaded. Please check file paths.\")\n",
    "else:\n",
    "    print(\"Tables Loaded:\", list(tables.keys()))\n"
   ]
  }
 ],
 "metadata": {
  "kernelspec": {
   "display_name": "Python 3",
   "language": "python",
   "name": "python3"
  },
  "language_info": {
   "codemirror_mode": {
    "name": "ipython",
    "version": 3
   },
   "file_extension": ".py",
   "mimetype": "text/x-python",
   "name": "python",
   "nbconvert_exporter": "python",
   "pygments_lexer": "ipython3",
   "version": "3.11.5"
  }
 },
 "nbformat": 4,
 "nbformat_minor": 2
}
